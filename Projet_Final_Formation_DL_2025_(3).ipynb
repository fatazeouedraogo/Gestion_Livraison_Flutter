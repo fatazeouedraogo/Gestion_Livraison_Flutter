{
  "cells": [
    {
      "cell_type": "markdown",
      "metadata": {
        "id": "view-in-github",
        "colab_type": "text"
      },
      "source": [
        "<a href=\"https://colab.research.google.com/github/fatazeouedraogo/Gestion_Livraison_Flutter/blob/main/Projet_Final_Formation_DL_2025_(3).ipynb\" target=\"_parent\"><img src=\"https://colab.research.google.com/assets/colab-badge.svg\" alt=\"Open In Colab\"/></a>"
      ]
    },
    {
      "cell_type": "markdown",
      "metadata": {
        "id": "3zAxhQPKMnea"
      },
      "source": [
        "# **CNN Project** for DELTA RESIDENCY\n",
        "\n",
        "# **Project : An AI mobile app helping Burkinabè farmers diagnose plant diseases from photos to boost crop yields and fight hunger.**"
      ]
    },
    {
      "cell_type": "markdown",
      "metadata": {
        "id": "0Emq_3NfNV9s"
      },
      "source": [
        "Project: Training a CNN Model to Detect Plant Diseases Using PlantVillage Data from Kaggle\n",
        "Project Overview\n",
        "This project aims to develop a Convolutional Neural Network (CNN) model capable of detecting plant diseases using the PlantVillage dataset available on Kaggle. The dataset contains images of healthy and diseased plants, which will be used to train and validate the model."
      ]
    },
    {
      "cell_type": "markdown",
      "metadata": {
        "id": "go3FBHQgNZ7B"
      },
      "source": [
        "\\## **Configuration and Importations** [text of link](https://)"
      ]
    },
    {
      "cell_type": "markdown",
      "metadata": {
        "id": "l7z3fZz9Ngjf"
      },
      "source": [
        "Before we can build anything, we need to import our \"tools\". Each library provides us with specific functionalities: TensorFlow for building the neural network, zipfile for extracting our data, and matplotlib for visualizing our results at the end."
      ]
    },
    {
      "cell_type": "markdown",
      "metadata": {
        "id": "pYSSFlpKIIxs"
      },
      "source": []
    },
    {
      "cell_type": "code",
      "execution_count": null,
      "metadata": {
        "colab": {
          "base_uri": "https://localhost:8080/"
        },
        "id": "wMtIbVCZL6yh",
        "outputId": "b2a4fd73-9649-466e-ba76-574e47169190"
      },
      "outputs": [
        {
          "name": "stdout",
          "output_type": "stream",
          "text": [
            "Version of TensorFlow : 2.18.0\n"
          ]
        }
      ],
      "source": [
        "# Configuration and Importations\n",
        "import tensorflow as tf\n",
        "import matplotlib.pyplot as plt\n",
        "import zipfile\n",
        "import os\n",
        "\n",
        "print(f\"Version of TensorFlow : {tf.__version__}\")"
      ]
    },
    {
      "cell_type": "markdown",
      "metadata": {
        "id": "TE-w7gwfOBse"
      },
      "source": [
        "## **Data decompression**"
      ]
    },
    {
      "cell_type": "markdown",
      "metadata": {
        "id": "eEgPPbIQRXh8"
      },
      "source": [
        "###  Google Drive connected with Colab"
      ]
    },
    {
      "cell_type": "code",
      "execution_count": null,
      "metadata": {
        "colab": {
          "base_uri": "https://localhost:8080/"
        },
        "id": "54DteegKRatY",
        "outputId": "c342a42b-dd83-45dc-a0b3-101fc2d6418e"
      },
      "outputs": [
        {
          "name": "stdout",
          "output_type": "stream",
          "text": [
            "Drive already mounted at /content/drive; to attempt to forcibly remount, call drive.mount(\"/content/drive\", force_remount=True).\n"
          ]
        }
      ],
      "source": [
        "### Connexion with Google Drive\n",
        "from google.colab import drive\n",
        "drive.mount('/content/drive')"
      ]
    },
    {
      "cell_type": "markdown",
      "metadata": {
        "id": "CAkCra2kPDB5"
      },
      "source": [
        "An AI model cannot learn without data. Since you downloaded the .zip file to your machine and then imported it into Colab, this step involves extracting all the images from the compressed file so that our program can access them."
      ]
    },
    {
      "cell_type": "code",
      "execution_count": null,
      "metadata": {
        "colab": {
          "base_uri": "https://localhost:8080/"
        },
        "id": "hikB908obCRa",
        "outputId": "941b05d8-35c1-4770-9312-2f21c94452ed"
      },
      "outputs": [
        {
          "name": "stdout",
          "output_type": "stream",
          "text": [
            "\n",
            "--- Extracting Data from Google Drive ---\n"
          ]
        }
      ],
      "source": [
        "print(\"\\n--- Extracting Data from Google Drive ---\")\n",
        "\n",
        "# Since the dataset is stored in your Google Drive, we need to mount Drive in Colab and\n",
        "# verify the correct path to the .zip file before extraction\n",
        "drive_zip_path = '/content/drive/MyDrive/plantvillage.zip'\n"
      ]
    },
    {
      "cell_type": "code",
      "execution_count": null,
      "metadata": {
        "collapsed": true,
        "id": "HR7kc61MbUcJ"
      },
      "outputs": [],
      "source": [
        "# Extracting files\n",
        "import zipfile\n",
        "with zipfile.ZipFile(drive_zip_path, 'r') as zip_ref:\n",
        "    zip_ref.extractall('/content')\n"
      ]
    },
    {
      "cell_type": "code",
      "execution_count": null,
      "metadata": {
        "colab": {
          "base_uri": "https://localhost:8080/"
        },
        "id": "Xort1OmubWzZ",
        "outputId": "860f5a7d-3762-49ea-e342-95f08f46b366"
      },
      "outputs": [
        {
          "name": "stdout",
          "output_type": "stream",
          "text": [
            "-->Data Successfully Extracted To /content/drive/MyDrive/plantvillage.zip\n"
          ]
        }
      ],
      "source": [
        "# Define the Path to Extracted Images\n",
        "# Verify Subfolders (Classes)\n",
        "data_dir = \"/content/drive/MyDrive/plantvillage.zip\"\n",
        "print(f\"-->Data Successfully Extracted To {data_dir}\")\n"
      ]
    },
    {
      "cell_type": "markdown",
      "metadata": {
        "id": "CB9mteGdcDOs"
      },
      "source": [
        "## **Data Preparation and Loading**"
      ]
    },
    {
      "cell_type": "markdown",
      "metadata": {
        "id": "VOICz5mucLUS"
      },
      "source": [
        "Preparing the Raw Data for Training\n",
        "Raw data cannot be used directly. The model requires clean, standardized, and well-organized data. This step will:\n",
        "\n",
        "Resize all images to the same dimensions (128×128).\n",
        "\n",
        "Group them into batches for efficient training.\n",
        "\n",
        "Automatically split all images into:\n",
        "\n",
        "A training set (80%)\n",
        "\n",
        "A validation set (20%)"
      ]
    },
    {
      "cell_type": "code",
      "execution_count": null,
      "metadata": {
        "colab": {
          "base_uri": "https://localhost:8080/"
        },
        "id": "dkMayBKKcCyy",
        "outputId": "fa577a28-c3f5-4089-89bb-fc75cecce719"
      },
      "outputs": [
        {
          "name": "stdout",
          "output_type": "stream",
          "text": [
            "\n",
            "--- Data Preparation ---\n"
          ]
        }
      ],
      "source": [
        "### Bloc 3 : Data Preparation\n",
        "print(\"\\n--- Data Preparation ---\")\n",
        "\n",
        "# Definition of parameters\n",
        "IMAGE_SIZE = (128, 128)\n",
        "BATCH_SIZE = 32\n"
      ]
    },
    {
      "cell_type": "code",
      "execution_count": null,
      "metadata": {
        "colab": {
          "base_uri": "https://localhost:8080/"
        },
        "id": "JVO-7OXkcxf-",
        "outputId": "08208064-9339-4ec3-ba7b-aa0b3bbce740"
      },
      "outputs": [
        {
          "name": "stdout",
          "output_type": "stream",
          "text": [
            "Found 55448 files belonging to 39 classes.\n",
            "Using 44359 files for training.\n",
            "Found 55448 files belonging to 39 classes.\n",
            "Using 11089 files for validation.\n",
            "\n",
            "Dataset loaded successfully from: /content/Plant_leave_diseases_dataset_without_augmentation\n",
            "Detected 39 classes\n",
            "Sample classes: ['Apple___Apple_scab', 'Apple___Black_rot', 'Apple___Cedar_apple_rust', 'Apple___healthy', 'Background_without_leaves']\n"
          ]
        }
      ],
      "source": [
        "import tensorflow as tf\n",
        "import os\n",
        "\n",
        "# Correct paths (try these in order)\n",
        "possible_paths = [\n",
        "    \"/content/plantvillage/Plant_leave_diseases_dataset_without_augmentation\",\n",
        "    \"/content/drive/MyDrive/plantvillage/Plant_leave_diseases_dataset_without_augmentation\",\n",
        "    \"/content/Plant_leave_diseases_dataset_without_augmentation\"\n",
        "]\n",
        "\n",
        "for path in possible_paths:\n",
        "    if os.path.exists(path):\n",
        "        data_dir = path\n",
        "        break\n",
        "\n",
        "if not os.path.exists(data_dir):\n",
        "    raise FileNotFoundError(f\"Could not find dataset in any of: {possible_paths}\")\n",
        "\n",
        "# Parameters\n",
        "IMAGE_SIZE = (256, 256)\n",
        "BATCH_SIZE = 32\n",
        "\n",
        "# Load datasets\n",
        "train_dataset = tf.keras.utils.image_dataset_from_directory(\n",
        "    data_dir,\n",
        "    validation_split=0.2,\n",
        "    subset=\"training\",\n",
        "    seed=123,\n",
        "    image_size=IMAGE_SIZE,\n",
        "    batch_size=BATCH_SIZE,\n",
        "    label_mode=\"categorical\"\n",
        ")\n",
        "\n",
        "validation_dataset = tf.keras.utils.image_dataset_from_directory(\n",
        "    data_dir,\n",
        "    validation_split=0.2,\n",
        "    subset=\"validation\",\n",
        "    seed=123,\n",
        "    image_size=IMAGE_SIZE,\n",
        "    batch_size=BATCH_SIZE,\n",
        "    label_mode=\"categorical\"\n",
        ")\n",
        "\n",
        "# Verification\n",
        "print(f\"\\nDataset loaded successfully from: {data_dir}\")\n",
        "print(f\"Detected {len(train_dataset.class_names)} classes\")\n",
        "print(\"Sample classes:\", train_dataset.class_names[:5])  # Show first 5"
      ]
    },
    {
      "cell_type": "code",
      "execution_count": null,
      "metadata": {
        "colab": {
          "base_uri": "https://localhost:8080/"
        },
        "id": "HRcvv8GED2Qy",
        "outputId": "bc65f1ae-2531-4d6b-e615-fad9f43a47e5"
      },
      "outputs": [
        {
          "name": "stdout",
          "output_type": "stream",
          "text": [
            "total 4\n",
            "drwxr-xr-x 41 root root 4096 Aug  1 23:52 Plant_leave_diseases_dataset_without_augmentation\n"
          ]
        }
      ],
      "source": [
        "!ls -l \"/content/plantvillage\"\n"
      ]
    },
    {
      "cell_type": "code",
      "execution_count": null,
      "metadata": {
        "id": "St2nRfisFNC5"
      },
      "outputs": [],
      "source": [
        "data_dir = \"/content/plantvillage/Plant_leave_diseases_dataset_without_augmentation\"  # Chemin vérifié"
      ]
    },
    {
      "cell_type": "code",
      "execution_count": null,
      "metadata": {
        "colab": {
          "base_uri": "https://localhost:8080/"
        },
        "id": "37J003siESYK",
        "outputId": "13fd0a01-bdf1-4abc-fab7-99621ee3fecd"
      },
      "outputs": [
        {
          "name": "stdout",
          "output_type": "stream",
          "text": [
            "total 2056\n",
            "drwxr-xr-x 2 root root  24576 Aug  3 23:18  Apple___Apple_scab\n",
            "drwxr-xr-x 2 root root  24576 Aug  3 23:18  Apple___Black_rot\n",
            "drwxr-xr-x 2 root root  12288 Aug  3 23:18  Apple___Cedar_apple_rust\n",
            "drwxr-xr-x 2 root root  69632 Aug  3 23:18  Apple___healthy\n",
            "drwxr-xr-x 2 root root  36864 Aug  3 23:18  Background_without_leaves\n",
            "drwxr-xr-x 2 root root  65536 Aug  3 23:18  Blueberry___healthy\n",
            "drwxr-xr-x 2 root root  36864 Aug  3 23:18  Cherry___healthy\n",
            "drwxr-xr-x 2 root root  36864 Aug  3 23:18  Cherry___Powdery_mildew\n",
            "drwxr-xr-x 2 root root  20480 Aug  3 23:18 'Corn___Cercospora_leaf_spot Gray_leaf_spot'\n",
            "drwxr-xr-x 2 root root  40960 Aug  3 23:18  Corn___Common_rust\n",
            "drwxr-xr-x 2 root root  40960 Aug  3 23:18  Corn___healthy\n",
            "drwxr-xr-x 2 root root  36864 Aug  3 23:18  Corn___Northern_Leaf_Blight\n",
            "drwxr-xr-x 2 root root  40960 Aug  3 23:18  Grape___Black_rot\n",
            "drwxr-xr-x 2 root root  45056 Aug  3 23:18 'Grape___Esca_(Black_Measles)'\n",
            "drwxr-xr-x 2 root root  20480 Aug  3 23:18  Grape___healthy\n",
            "drwxr-xr-x 2 root root  36864 Aug  3 23:18 'Grape___Leaf_blight_(Isariopsis_Leaf_Spot)'\n",
            "drwxr-xr-x 2 root root 196608 Aug  3 23:18 'Orange___Haunglongbing_(Citrus_greening)'\n",
            "drwxr-xr-x 2 root root  77824 Aug  3 23:18  Peach___Bacterial_spot\n",
            "drwxr-xr-x 2 root root  20480 Aug  3 23:18  Peach___healthy\n",
            "drwxr-xr-x 2 root root  36864 Aug  3 23:18  Pepper,_bell___Bacterial_spot\n",
            "drwxr-xr-x 2 root root  61440 Aug  3 23:18  Pepper,_bell___healthy\n",
            "drwxr-xr-x 2 root root  36864 Aug  3 23:18  Potato___Early_blight\n",
            "drwxr-xr-x 2 root root   4096 Aug  3 23:18  Potato___healthy\n",
            "drwxr-xr-x 2 root root  36864 Aug  3 23:18  Potato___Late_blight\n",
            "drwxr-xr-x 2 root root  20480 Aug  3 23:18  Raspberry___healthy\n",
            "drwxr-xr-x 2 root root 163840 Aug  3 23:18  Soybean___healthy\n",
            "drwxr-xr-x 2 root root  69632 Aug  3 23:18  Squash___Powdery_mildew\n",
            "drwxr-xr-x 2 root root  20480 Aug  3 23:18  Strawberry___healthy\n",
            "drwxr-xr-x 2 root root  36864 Aug  3 23:18  Strawberry___Leaf_scorch\n",
            "drwxr-xr-x 2 root root  77824 Aug  3 23:18  Tomato___Bacterial_spot\n",
            "drwxr-xr-x 2 root root  36864 Aug  3 23:18  Tomato___Early_blight\n",
            "drwxr-xr-x 2 root root  65536 Aug  3 23:18  Tomato___healthy\n",
            "drwxr-xr-x 2 root root  69632 Aug  3 23:18  Tomato___Late_blight\n",
            "drwxr-xr-x 2 root root  36864 Aug  3 23:18  Tomato___Leaf_Mold\n",
            "drwxr-xr-x 2 root root  69632 Aug  3 23:18  Tomato___Septoria_leaf_spot\n",
            "drwxr-xr-x 2 root root  69632 Aug  3 23:18 'Tomato___Spider_mites Two-spotted_spider_mite'\n",
            "drwxr-xr-x 2 root root  49152 Aug  3 23:18  Tomato___Target_Spot\n",
            "drwxr-xr-x 2 root root  20480 Aug  3 23:18  Tomato___Tomato_mosaic_virus\n",
            "drwxr-xr-x 2 root root 184320 Aug  3 23:18  Tomato___Tomato_Yellow_Leaf_Curl_Virus\n"
          ]
        }
      ],
      "source": [
        "!ls -l \"/content/Plant_leave_diseases_dataset_without_augmentation\""
      ]
    },
    {
      "cell_type": "code",
      "execution_count": null,
      "metadata": {
        "id": "fjAg7XIAEfuJ"
      },
      "outputs": [],
      "source": [
        "data_dir = \"/content/plantvillage/Plant_leave_diseases_dataset_without_augmentation\""
      ]
    },
    {
      "cell_type": "code",
      "execution_count": null,
      "metadata": {
        "colab": {
          "base_uri": "https://localhost:8080/"
        },
        "id": "_hN7wqugCcN-",
        "outputId": "ae26cae0-7e26-438c-c79e-a9770f3d496e"
      },
      "outputs": [
        {
          "name": "stdout",
          "output_type": "stream",
          "text": [
            "--> 1387 Getting classes.\n"
          ]
        }
      ],
      "source": [
        "# 2. Getting Class Names and Count\n",
        "class_names = train_dataset = train_dataset.prefetch(buffer_size=tf.data.AUTOTUNE)\n",
        "num_classes = len(class_names)\n",
        "print(f\"--> {num_classes} Getting classes.\")"
      ]
    },
    {
      "cell_type": "code",
      "execution_count": null,
      "metadata": {
        "id": "Dj9W6DJyc3Un"
      },
      "outputs": [],
      "source": [
        "# 3. Applying Optimizations to the Model\n",
        "AUTOTUNE = tf.data.AUTOTUNE\n",
        "train_dataset = train_dataset.cache().shuffle(1000).prefetch(buffer_size=AUTOTUNE)\n",
        "validation_dataset = validation_dataset.cache().prefetch(buffer_size=AUTOTUNE)"
      ]
    },
    {
      "cell_type": "markdown",
      "metadata": {
        "id": "0pzi3PSWd46F"
      },
      "source": [
        "## **Building the Model Architecture (The Brain 🧠)**"
      ]
    },
    {
      "cell_type": "markdown",
      "metadata": {
        "id": "R8SGVhc2eDXA"
      },
      "source": [
        "The Heart of Our Project: Building the AI \"Brain\"\n",
        "Here, we define the architecture of our artificial \"brain,\" layer by layer.\n",
        "\n",
        "Core Components:\n",
        "\n",
        "**📊 Data Augmentation**\n",
        "\n",
        "Creates diversity to make the model more robust.\n",
        "\n",
        "Simulates real-world variations (rotation, zoom, flip).\n",
        "\n",
        "**🎛️ Rescaling (Normalization)**\n",
        "\n",
        "Converts pixel values from [0, 255] → [0, 1].\n",
        "\n",
        "Essential for stable and faster training.\n",
        "\n",
        "**👁️ Conv2D + MaxPooling2D (The \"Eyes\")**\n",
        "\n",
        "Conv2D: Detects visual patterns (edges, textures, spots).\n",
        "\n",
        "MaxPooling2D: Reduces spatial size, keeping only the most important features.\n",
        "\n",
        "**🧠 Flatten + Dense + Dropout (The \"Decision-Making Brain\")**\n",
        "\n",
        "Flatten: Converts 2D features into 1D for classification.\n",
        "\n",
        "Dense: Fully connected layers that analyze detected features.\n",
        "\n",
        "Dropout: Randomly deactivates neurons to prevent overfitting."
      ]
    },
    {
      "cell_type": "code",
      "execution_count": null,
      "metadata": {
        "id": "txx6PCrDd4bf"
      },
      "outputs": [],
      "source": [
        "\n",
        "\n",
        "# Data Augmentation Block\n",
        "\n",
        "\n",
        "### Recommended Data Augmentation Block\n",
        "\n",
        "data_augmentation = tf.keras.Sequential([\n",
        "  # Simulating Different Camera Angles (Data Augmentation for Viewpoint Variations)\n",
        "  tf.keras.layers.RandomFlip(\"horizontal_and_vertical\"),\n",
        "  tf.keras.layers.RandomRotation(0.2),\n",
        "\n",
        "  # Simulating  distance of camera\n",
        "  tf.keras.layers.RandomZoom(0.2),\n",
        "  tf.keras.layers.RandomContrast(0.2),\n",
        "\n",
        "  # Simulating camera moving\n",
        "  tf.keras.layers.RandomBrightness(0.2)\n",
        "])"
      ]
    },
    {
      "cell_type": "markdown",
      "metadata": {
        "id": "ZXeJ5Ucw2DC1"
      },
      "source": [
        "Defining the Neural Network Architecture Layer by Layer\n",
        "(This code builds your neural network model step-by-step using Keras' Sequential API - like assembling the building blocks of an artificial \"brain\")\n",
        "\n",
        "Layer-by-Layer Explanation\n",
        "1. tf.keras.models.Sequential([...])\n",
        "Purpose: Creates a linear stack of layers (data flows top-to-bottom)\n",
        "\n",
        "Why: Simplifies model construction for straightforward architectures\n",
        "\n",
        "2. tf.keras.layers.Input(shape=IMAGE_SIZE + (3,))\n",
        "Purpose: Explicitly defines input shape (e.g., (128, 128, 3) for 128x128 RGB images)\n",
        "\n",
        "Why: Ensures compatibility with your image dimensions\n",
        "\n",
        "3. data_augmentation\n",
        "Purpose: Applies real-time random transformations (rotations, flips, etc.) during training\n",
        "\n",
        "Why:\n",
        "\n",
        "Prevents memorization (\"overfitting\")\n",
        "\n",
        "Simulates real-world photo variations 📸\n",
        "\n",
        "4. tf.keras.layers.Rescaling(1./255)\n",
        "Purpose: Normalizes pixel values from [0, 255] → [0, 1]\n",
        "\n",
        "Why: Critical for stable and faster training ⚡\n",
        "\n",
        "5. tf.keras.layers.Conv2D(32, (3, 3), activation='relu')\n",
        "Purpose: The model's \"eye\" 👁️ - detects basic visual features (edges, textures) using 32 filters\n",
        "\n",
        "Why: First step in pattern recognition\n",
        "\n",
        "6. tf.keras.layers.MaxPooling2D()\n",
        "Purpose: Downsamples spatial dimensions (height/width) while retaining key features\n",
        "\n",
        "Why: Reduces computation and focuses on important patterns\n",
        "\n",
        "7. Deeper Conv2D Layers (64/128 filters)\n",
        "Purpose: Combine simple features into complex patterns (e.g., disease spots, leaf shapes)\n",
        "\n",
        "Progression:\n",
        "\n",
        "Conv2D(64,...) → Mid-level features\n",
        "\n",
        "Conv2D(128,...) → High-level features\n",
        "\n",
        "8. tf.keras.layers.Flatten()\n",
        "Purpose: Converts 2D feature maps into 1D vector\n",
        "\n",
        "Why: Prepares data for decision-making layers\n",
        "\n",
        "9. tf.keras.layers.Dense(128, activation='relu')\n",
        "Purpose: Fully-connected \"brain\" 🧠 that analyzes features\n",
        "\n",
        "Why: Finds high-level relationships for classification\n",
        "\n",
        "10. tf.keras.layers.Dropout(0.5)\n",
        "Purpose: Randomly deactivates 50% of neurons during training\n",
        "\n",
        "Why: Prevents over-reliance on specific neurons → better generalization\n",
        "\n",
        "11. Output Layer: Dense(..., activation='softmax')\n",
        "Purpose: Final prediction layer 📊 (neurons = number of disease classes)\n",
        "\n",
        "Softmax: Converts outputs to probabilities (highest = predicted class)\n",
        "\n"
      ]
    },
    {
      "cell_type": "code",
      "execution_count": null,
      "metadata": {
        "colab": {
          "base_uri": "https://localhost:8080/"
        },
        "id": "2QrpL7Ffepqs",
        "outputId": "6e8c4989-784c-41ff-a2ff-ec8caaec58ea"
      },
      "outputs": [
        {
          "name": "stdout",
          "output_type": "stream",
          "text": [
            "--> Modèle construit.\n"
          ]
        }
      ],
      "source": [
        "\n",
        "# Definition of model\n",
        "model = tf.keras.models.Sequential([\n",
        "    tf.keras.layers.Input(shape=IMAGE_SIZE + (3,)),\n",
        "    data_augmentation,\n",
        "    tf.keras.layers.Rescaling(1./255),\n",
        "    tf.keras.layers.Conv2D(32, (3, 3), activation='relu'),\n",
        "    tf.keras.layers.MaxPooling2D(),\n",
        "    tf.keras.layers.Conv2D(64, (3, 3), activation='relu'),\n",
        "    tf.keras.layers.MaxPooling2D(),\n",
        "    tf.keras.layers.Conv2D(128, (3, 3), activation='relu'),\n",
        "    tf.keras.layers.MaxPooling2D(),\n",
        "    tf.keras.layers.Flatten(),\n",
        "    tf.keras.layers.Dense(128, activation='relu'),\n",
        "    tf.keras.layers.Dropout(0.5),\n",
        "    tf.keras.layers.Dense(num_classes, activation='softmax')\n",
        "])\n",
        "\n",
        "print(\"--> Modèle construit.\")"
      ]
    },
    {
      "cell_type": "markdown",
      "metadata": {
        "id": "ahCxEcg4hVPk"
      },
      "source": [
        "## **Model Compilation**"
      ]
    },
    {
      "cell_type": "markdown",
      "metadata": {
        "id": "prjhb9-uhbhS"
      },
      "source": [
        "Configuring the Model for Training\n",
        "(Before training, the model needs instructions. This block tells it:)\n",
        "\n",
        "How to improve → optimizer='adam'\n",
        "\n",
        "Adam optimization: An adaptive learning rate algorithm that adjusts updates based on gradient momentum\n",
        "\n",
        "How to measure mistakes → loss='categorical_crossentropy'\n",
        "\n",
        "Cross-entropy loss: Penalizes incorrect classifications more heavily (ideal for multi-class problems)\n",
        "\n",
        "How we grade it → metrics=['accuracy']\n",
        "\n",
        "Accuracy metric: Tracks the percentage of correctly classified images"
      ]
    },
    {
      "cell_type": "code",
      "execution_count": null,
      "metadata": {
        "colab": {
          "base_uri": "https://localhost:8080/",
          "height": 552
        },
        "id": "VRsgcv4RhYAD",
        "outputId": "9937fb63-a8d0-44b4-d9e2-0087c57ea62d"
      },
      "outputs": [
        {
          "name": "stdout",
          "output_type": "stream",
          "text": [
            "\n",
            "--- Model Compilation ---\n"
          ]
        },
        {
          "data": {
            "text/html": [
              "<pre style=\"white-space:pre;overflow-x:auto;line-height:normal;font-family:Menlo,'DejaVu Sans Mono',consolas,'Courier New',monospace\"><span style=\"font-weight: bold\">Model: \"sequential_2\"</span>\n",
              "</pre>\n"
            ],
            "text/plain": [
              "\u001b[1mModel: \"sequential_2\"\u001b[0m\n"
            ]
          },
          "metadata": {},
          "output_type": "display_data"
        },
        {
          "data": {
            "text/html": [
              "<pre style=\"white-space:pre;overflow-x:auto;line-height:normal;font-family:Menlo,'DejaVu Sans Mono',consolas,'Courier New',monospace\">┏━━━━━━━━━━━━━━━━━━━━━━━━━━━━━━━━━┳━━━━━━━━━━━━━━━━━━━━━━━━┳━━━━━━━━━━━━━━━┓\n",
              "┃<span style=\"font-weight: bold\"> Layer (type)                    </span>┃<span style=\"font-weight: bold\"> Output Shape           </span>┃<span style=\"font-weight: bold\">       Param # </span>┃\n",
              "┡━━━━━━━━━━━━━━━━━━━━━━━━━━━━━━━━━╇━━━━━━━━━━━━━━━━━━━━━━━━╇━━━━━━━━━━━━━━━┩\n",
              "│ sequential_1 (<span style=\"color: #0087ff; text-decoration-color: #0087ff\">Sequential</span>)       │ (<span style=\"color: #00d7ff; text-decoration-color: #00d7ff\">None</span>, <span style=\"color: #00af00; text-decoration-color: #00af00\">256</span>, <span style=\"color: #00af00; text-decoration-color: #00af00\">256</span>, <span style=\"color: #00af00; text-decoration-color: #00af00\">3</span>)    │             <span style=\"color: #00af00; text-decoration-color: #00af00\">0</span> │\n",
              "├─────────────────────────────────┼────────────────────────┼───────────────┤\n",
              "│ rescaling_1 (<span style=\"color: #0087ff; text-decoration-color: #0087ff\">Rescaling</span>)         │ (<span style=\"color: #00d7ff; text-decoration-color: #00d7ff\">None</span>, <span style=\"color: #00af00; text-decoration-color: #00af00\">256</span>, <span style=\"color: #00af00; text-decoration-color: #00af00\">256</span>, <span style=\"color: #00af00; text-decoration-color: #00af00\">3</span>)    │             <span style=\"color: #00af00; text-decoration-color: #00af00\">0</span> │\n",
              "├─────────────────────────────────┼────────────────────────┼───────────────┤\n",
              "│ conv2d_2 (<span style=\"color: #0087ff; text-decoration-color: #0087ff\">Conv2D</span>)               │ (<span style=\"color: #00d7ff; text-decoration-color: #00d7ff\">None</span>, <span style=\"color: #00af00; text-decoration-color: #00af00\">254</span>, <span style=\"color: #00af00; text-decoration-color: #00af00\">254</span>, <span style=\"color: #00af00; text-decoration-color: #00af00\">32</span>)   │           <span style=\"color: #00af00; text-decoration-color: #00af00\">896</span> │\n",
              "├─────────────────────────────────┼────────────────────────┼───────────────┤\n",
              "│ max_pooling2d_2 (<span style=\"color: #0087ff; text-decoration-color: #0087ff\">MaxPooling2D</span>)  │ (<span style=\"color: #00d7ff; text-decoration-color: #00d7ff\">None</span>, <span style=\"color: #00af00; text-decoration-color: #00af00\">127</span>, <span style=\"color: #00af00; text-decoration-color: #00af00\">127</span>, <span style=\"color: #00af00; text-decoration-color: #00af00\">32</span>)   │             <span style=\"color: #00af00; text-decoration-color: #00af00\">0</span> │\n",
              "├─────────────────────────────────┼────────────────────────┼───────────────┤\n",
              "│ conv2d_3 (<span style=\"color: #0087ff; text-decoration-color: #0087ff\">Conv2D</span>)               │ (<span style=\"color: #00d7ff; text-decoration-color: #00d7ff\">None</span>, <span style=\"color: #00af00; text-decoration-color: #00af00\">125</span>, <span style=\"color: #00af00; text-decoration-color: #00af00\">125</span>, <span style=\"color: #00af00; text-decoration-color: #00af00\">64</span>)   │        <span style=\"color: #00af00; text-decoration-color: #00af00\">18,496</span> │\n",
              "├─────────────────────────────────┼────────────────────────┼───────────────┤\n",
              "│ max_pooling2d_3 (<span style=\"color: #0087ff; text-decoration-color: #0087ff\">MaxPooling2D</span>)  │ (<span style=\"color: #00d7ff; text-decoration-color: #00d7ff\">None</span>, <span style=\"color: #00af00; text-decoration-color: #00af00\">62</span>, <span style=\"color: #00af00; text-decoration-color: #00af00\">62</span>, <span style=\"color: #00af00; text-decoration-color: #00af00\">64</span>)     │             <span style=\"color: #00af00; text-decoration-color: #00af00\">0</span> │\n",
              "├─────────────────────────────────┼────────────────────────┼───────────────┤\n",
              "│ conv2d_4 (<span style=\"color: #0087ff; text-decoration-color: #0087ff\">Conv2D</span>)               │ (<span style=\"color: #00d7ff; text-decoration-color: #00d7ff\">None</span>, <span style=\"color: #00af00; text-decoration-color: #00af00\">60</span>, <span style=\"color: #00af00; text-decoration-color: #00af00\">60</span>, <span style=\"color: #00af00; text-decoration-color: #00af00\">128</span>)    │        <span style=\"color: #00af00; text-decoration-color: #00af00\">73,856</span> │\n",
              "├─────────────────────────────────┼────────────────────────┼───────────────┤\n",
              "│ max_pooling2d_4 (<span style=\"color: #0087ff; text-decoration-color: #0087ff\">MaxPooling2D</span>)  │ (<span style=\"color: #00d7ff; text-decoration-color: #00d7ff\">None</span>, <span style=\"color: #00af00; text-decoration-color: #00af00\">30</span>, <span style=\"color: #00af00; text-decoration-color: #00af00\">30</span>, <span style=\"color: #00af00; text-decoration-color: #00af00\">128</span>)    │             <span style=\"color: #00af00; text-decoration-color: #00af00\">0</span> │\n",
              "├─────────────────────────────────┼────────────────────────┼───────────────┤\n",
              "│ flatten_1 (<span style=\"color: #0087ff; text-decoration-color: #0087ff\">Flatten</span>)             │ (<span style=\"color: #00d7ff; text-decoration-color: #00d7ff\">None</span>, <span style=\"color: #00af00; text-decoration-color: #00af00\">115200</span>)         │             <span style=\"color: #00af00; text-decoration-color: #00af00\">0</span> │\n",
              "├─────────────────────────────────┼────────────────────────┼───────────────┤\n",
              "│ dense_2 (<span style=\"color: #0087ff; text-decoration-color: #0087ff\">Dense</span>)                 │ (<span style=\"color: #00d7ff; text-decoration-color: #00d7ff\">None</span>, <span style=\"color: #00af00; text-decoration-color: #00af00\">128</span>)            │    <span style=\"color: #00af00; text-decoration-color: #00af00\">14,745,728</span> │\n",
              "├─────────────────────────────────┼────────────────────────┼───────────────┤\n",
              "│ dropout (<span style=\"color: #0087ff; text-decoration-color: #0087ff\">Dropout</span>)               │ (<span style=\"color: #00d7ff; text-decoration-color: #00d7ff\">None</span>, <span style=\"color: #00af00; text-decoration-color: #00af00\">128</span>)            │             <span style=\"color: #00af00; text-decoration-color: #00af00\">0</span> │\n",
              "├─────────────────────────────────┼────────────────────────┼───────────────┤\n",
              "│ dense_3 (<span style=\"color: #0087ff; text-decoration-color: #0087ff\">Dense</span>)                 │ (<span style=\"color: #00d7ff; text-decoration-color: #00d7ff\">None</span>, <span style=\"color: #00af00; text-decoration-color: #00af00\">1387</span>)           │       <span style=\"color: #00af00; text-decoration-color: #00af00\">178,923</span> │\n",
              "└─────────────────────────────────┴────────────────────────┴───────────────┘\n",
              "</pre>\n"
            ],
            "text/plain": [
              "┏━━━━━━━━━━━━━━━━━━━━━━━━━━━━━━━━━┳━━━━━━━━━━━━━━━━━━━━━━━━┳━━━━━━━━━━━━━━━┓\n",
              "┃\u001b[1m \u001b[0m\u001b[1mLayer (type)                   \u001b[0m\u001b[1m \u001b[0m┃\u001b[1m \u001b[0m\u001b[1mOutput Shape          \u001b[0m\u001b[1m \u001b[0m┃\u001b[1m \u001b[0m\u001b[1m      Param #\u001b[0m\u001b[1m \u001b[0m┃\n",
              "┡━━━━━━━━━━━━━━━━━━━━━━━━━━━━━━━━━╇━━━━━━━━━━━━━━━━━━━━━━━━╇━━━━━━━━━━━━━━━┩\n",
              "│ sequential_1 (\u001b[38;5;33mSequential\u001b[0m)       │ (\u001b[38;5;45mNone\u001b[0m, \u001b[38;5;34m256\u001b[0m, \u001b[38;5;34m256\u001b[0m, \u001b[38;5;34m3\u001b[0m)    │             \u001b[38;5;34m0\u001b[0m │\n",
              "├─────────────────────────────────┼────────────────────────┼───────────────┤\n",
              "│ rescaling_1 (\u001b[38;5;33mRescaling\u001b[0m)         │ (\u001b[38;5;45mNone\u001b[0m, \u001b[38;5;34m256\u001b[0m, \u001b[38;5;34m256\u001b[0m, \u001b[38;5;34m3\u001b[0m)    │             \u001b[38;5;34m0\u001b[0m │\n",
              "├─────────────────────────────────┼────────────────────────┼───────────────┤\n",
              "│ conv2d_2 (\u001b[38;5;33mConv2D\u001b[0m)               │ (\u001b[38;5;45mNone\u001b[0m, \u001b[38;5;34m254\u001b[0m, \u001b[38;5;34m254\u001b[0m, \u001b[38;5;34m32\u001b[0m)   │           \u001b[38;5;34m896\u001b[0m │\n",
              "├─────────────────────────────────┼────────────────────────┼───────────────┤\n",
              "│ max_pooling2d_2 (\u001b[38;5;33mMaxPooling2D\u001b[0m)  │ (\u001b[38;5;45mNone\u001b[0m, \u001b[38;5;34m127\u001b[0m, \u001b[38;5;34m127\u001b[0m, \u001b[38;5;34m32\u001b[0m)   │             \u001b[38;5;34m0\u001b[0m │\n",
              "├─────────────────────────────────┼────────────────────────┼───────────────┤\n",
              "│ conv2d_3 (\u001b[38;5;33mConv2D\u001b[0m)               │ (\u001b[38;5;45mNone\u001b[0m, \u001b[38;5;34m125\u001b[0m, \u001b[38;5;34m125\u001b[0m, \u001b[38;5;34m64\u001b[0m)   │        \u001b[38;5;34m18,496\u001b[0m │\n",
              "├─────────────────────────────────┼────────────────────────┼───────────────┤\n",
              "│ max_pooling2d_3 (\u001b[38;5;33mMaxPooling2D\u001b[0m)  │ (\u001b[38;5;45mNone\u001b[0m, \u001b[38;5;34m62\u001b[0m, \u001b[38;5;34m62\u001b[0m, \u001b[38;5;34m64\u001b[0m)     │             \u001b[38;5;34m0\u001b[0m │\n",
              "├─────────────────────────────────┼────────────────────────┼───────────────┤\n",
              "│ conv2d_4 (\u001b[38;5;33mConv2D\u001b[0m)               │ (\u001b[38;5;45mNone\u001b[0m, \u001b[38;5;34m60\u001b[0m, \u001b[38;5;34m60\u001b[0m, \u001b[38;5;34m128\u001b[0m)    │        \u001b[38;5;34m73,856\u001b[0m │\n",
              "├─────────────────────────────────┼────────────────────────┼───────────────┤\n",
              "│ max_pooling2d_4 (\u001b[38;5;33mMaxPooling2D\u001b[0m)  │ (\u001b[38;5;45mNone\u001b[0m, \u001b[38;5;34m30\u001b[0m, \u001b[38;5;34m30\u001b[0m, \u001b[38;5;34m128\u001b[0m)    │             \u001b[38;5;34m0\u001b[0m │\n",
              "├─────────────────────────────────┼────────────────────────┼───────────────┤\n",
              "│ flatten_1 (\u001b[38;5;33mFlatten\u001b[0m)             │ (\u001b[38;5;45mNone\u001b[0m, \u001b[38;5;34m115200\u001b[0m)         │             \u001b[38;5;34m0\u001b[0m │\n",
              "├─────────────────────────────────┼────────────────────────┼───────────────┤\n",
              "│ dense_2 (\u001b[38;5;33mDense\u001b[0m)                 │ (\u001b[38;5;45mNone\u001b[0m, \u001b[38;5;34m128\u001b[0m)            │    \u001b[38;5;34m14,745,728\u001b[0m │\n",
              "├─────────────────────────────────┼────────────────────────┼───────────────┤\n",
              "│ dropout (\u001b[38;5;33mDropout\u001b[0m)               │ (\u001b[38;5;45mNone\u001b[0m, \u001b[38;5;34m128\u001b[0m)            │             \u001b[38;5;34m0\u001b[0m │\n",
              "├─────────────────────────────────┼────────────────────────┼───────────────┤\n",
              "│ dense_3 (\u001b[38;5;33mDense\u001b[0m)                 │ (\u001b[38;5;45mNone\u001b[0m, \u001b[38;5;34m1387\u001b[0m)           │       \u001b[38;5;34m178,923\u001b[0m │\n",
              "└─────────────────────────────────┴────────────────────────┴───────────────┘\n"
            ]
          },
          "metadata": {},
          "output_type": "display_data"
        },
        {
          "data": {
            "text/html": [
              "<pre style=\"white-space:pre;overflow-x:auto;line-height:normal;font-family:Menlo,'DejaVu Sans Mono',consolas,'Courier New',monospace\"><span style=\"font-weight: bold\"> Total params: </span><span style=\"color: #00af00; text-decoration-color: #00af00\">15,017,899</span> (57.29 MB)\n",
              "</pre>\n"
            ],
            "text/plain": [
              "\u001b[1m Total params: \u001b[0m\u001b[38;5;34m15,017,899\u001b[0m (57.29 MB)\n"
            ]
          },
          "metadata": {},
          "output_type": "display_data"
        },
        {
          "data": {
            "text/html": [
              "<pre style=\"white-space:pre;overflow-x:auto;line-height:normal;font-family:Menlo,'DejaVu Sans Mono',consolas,'Courier New',monospace\"><span style=\"font-weight: bold\"> Trainable params: </span><span style=\"color: #00af00; text-decoration-color: #00af00\">15,017,899</span> (57.29 MB)\n",
              "</pre>\n"
            ],
            "text/plain": [
              "\u001b[1m Trainable params: \u001b[0m\u001b[38;5;34m15,017,899\u001b[0m (57.29 MB)\n"
            ]
          },
          "metadata": {},
          "output_type": "display_data"
        },
        {
          "data": {
            "text/html": [
              "<pre style=\"white-space:pre;overflow-x:auto;line-height:normal;font-family:Menlo,'DejaVu Sans Mono',consolas,'Courier New',monospace\"><span style=\"font-weight: bold\"> Non-trainable params: </span><span style=\"color: #00af00; text-decoration-color: #00af00\">0</span> (0.00 B)\n",
              "</pre>\n"
            ],
            "text/plain": [
              "\u001b[1m Non-trainable params: \u001b[0m\u001b[38;5;34m0\u001b[0m (0.00 B)\n"
            ]
          },
          "metadata": {},
          "output_type": "display_data"
        }
      ],
      "source": [
        "### Bloc 5 : Compilation of model\n",
        "print(\"\\n--- Model Compilation ---\")\n",
        "\n",
        "model.compile(\n",
        "    optimizer='adam',\n",
        "    loss='sparse_categorical_crossentropy',\n",
        "    metrics=['accuracy']\n",
        ")\n",
        "\n",
        "model.summary()"
      ]
    },
    {
      "cell_type": "markdown",
      "metadata": {
        "id": "UuKB-MZxhtL0"
      },
      "source": [
        "## **Model Training**"
      ]
    },
    {
      "cell_type": "code",
      "execution_count": null,
      "metadata": {
        "colab": {
          "base_uri": "https://localhost:8080/"
        },
        "id": "HLRAD0iGhv1j",
        "outputId": "38a16748-7d52-476c-c02b-a1b1066b0476"
      },
      "outputs": [
        {
          "name": "stdout",
          "output_type": "stream",
          "text": [
            "Found 55448 files belonging to 39 classes.\n",
            "Using 44359 files for training.\n",
            "Found 55448 files belonging to 39 classes.\n",
            "Using 11089 files for validation.\n",
            "Epoch 1/3\n",
            "\u001b[1m7394/7394\u001b[0m \u001b[32m━━━━━━━━━━━━━━━━━━━━\u001b[0m\u001b[37m\u001b[0m \u001b[1m57s\u001b[0m 7ms/step - accuracy: 0.5508 - loss: 1.6385 - val_accuracy: 0.7994 - val_loss: 0.6694\n",
            "Epoch 2/3\n",
            "\u001b[1m7394/7394\u001b[0m \u001b[32m━━━━━━━━━━━━━━━━━━━━\u001b[0m\u001b[37m\u001b[0m \u001b[1m55s\u001b[0m 4ms/step - accuracy: 0.8378 - loss: 0.5283 - val_accuracy: 0.8425 - val_loss: 0.5484\n",
            "Epoch 3/3\n",
            "\u001b[1m7394/7394\u001b[0m \u001b[32m━━━━━━━━━━━━━━━━━━━━\u001b[0m\u001b[37m\u001b[0m \u001b[1m28s\u001b[0m 4ms/step - accuracy: 0.8938 - loss: 0.3334 - val_accuracy: 0.8049 - val_loss: 0.7786\n"
          ]
        }
      ],
      "source": [
        "import tensorflow as tf\n",
        "\n",
        "# Configuration\n",
        "data_dir = \"/content/Plant_leave_diseases_dataset_without_augmentation\"\n",
        "IMAGE_SIZE = (100, 100)\n",
        "BATCH_SIZE = 6\n",
        "AUTOTUNE = tf.data.AUTOTUNE\n",
        "\n",
        "# Data loading\n",
        "train_dataset = tf.keras.utils.image_dataset_from_directory(\n",
        "    data_dir,\n",
        "    validation_split=0.2,\n",
        "    subset=\"training\",\n",
        "    seed=123,\n",
        "    image_size=IMAGE_SIZE,\n",
        "    batch_size=BATCH_SIZE,\n",
        "    label_mode='categorical'\n",
        ").cache().prefetch(buffer_size=AUTOTUNE)\n",
        "\n",
        "validation_dataset = tf.keras.utils.image_dataset_from_directory(\n",
        "    data_dir,\n",
        "    validation_split=0.2,\n",
        "    subset=\"validation\",\n",
        "    seed=123,\n",
        "    image_size=IMAGE_SIZE,\n",
        "    batch_size=BATCH_SIZE,\n",
        "    label_mode='categorical'\n",
        ").cache().prefetch(buffer_size=AUTOTUNE)\n",
        "\n",
        "# Optimized model\n",
        "model = tf.keras.Sequential([\n",
        "    tf.keras.layers.Rescaling(1./255, input_shape=(*IMAGE_SIZE, 3)),\n",
        "    tf.keras.layers.Conv2D(16, 3, activation='relu'),\n",
        "    tf.keras.layers.MaxPooling2D(),\n",
        "    tf.keras.layers.Conv2D(32, 3, activation='relu'),\n",
        "    tf.keras.layers.MaxPooling2D(),\n",
        "    tf.keras.layers.Flatten(),\n",
        "    tf.keras.layers.Dense(64, activation='relu'),\n",
        "    tf.keras.layers.Dense(39, activation='softmax')\n",
        "])\n",
        "\n",
        "# Compilation\n",
        "model.compile(\n",
        "    optimizer=tf.keras.optimizers.Adam(learning_rate=0.001),\n",
        "    loss='categorical_crossentropy',\n",
        "    metrics=['accuracy']\n",
        ")\n",
        "\n",
        "# Training\n",
        "EPOCHS = 3\n",
        "history = model.fit(\n",
        "    train_dataset,\n",
        "    validation_data=validation_dataset,\n",
        "    epochs=EPOCHS,\n",
        "    verbose=1\n",
        ")\n",
        "\n",
        "\n"
      ]
    },
    {
      "cell_type": "code",
      "execution_count": null,
      "metadata": {
        "colab": {
          "base_uri": "https://localhost:8080/"
        },
        "id": "IdcEoNJrl6RZ",
        "outputId": "ccb282b3-d0fb-42e1-e127-e304e0f188b9"
      },
      "outputs": [
        {
          "name": "stdout",
          "output_type": "stream",
          "text": [
            "\n",
            "--- Model Evaluation ---\n",
            "\u001b[1m1849/1849\u001b[0m \u001b[32m━━━━━━━━━━━━━━━━━━━━\u001b[0m\u001b[37m\u001b[0m \u001b[1m4s\u001b[0m 2ms/step - accuracy: 0.8009 - loss: 0.7941\n"
          ]
        }
      ],
      "source": [
        "# Model Evaluation\n",
        "print(\"\\n--- Model Evaluation ---\")\n",
        "\n",
        "test_loss, test_accuracy = model.evaluate(validation_dataset)"
      ]
    },
    {
      "cell_type": "markdown",
      "metadata": {
        "id": "oJYur3Sdh_YR"
      },
      "source": [
        "## **Training Results Visualization**"
      ]
    },
    {
      "cell_type": "markdown",
      "metadata": {
        "id": "UihbTJ8jiGBs"
      },
      "source": [
        "Model Performance Evaluation\n",
        "(Once training is complete, we need to assess its performance. This block generates graphs to visualize whether accuracy improved and loss decreased over epochs, for both training and validation data. It's our model's report card.)"
      ]
    },
    {
      "cell_type": "code",
      "execution_count": null,
      "metadata": {
        "colab": {
          "base_uri": "https://localhost:8080/",
          "height": 391
        },
        "id": "ZxISPmqsrYb6",
        "outputId": "6412a22d-3a51-42ef-8cb2-dfdc710ed56d"
      },
      "outputs": [
        {
          "data": {
            "image/png": "[encoded data removed]",
            "text/plain": [
              "<Figure size 1200x400 with 2 Axes>"
            ]
          },
          "metadata": {},
          "output_type": "display_data"
        }
      ],
      "source": [
        "import matplotlib.pyplot as plt\n",
        "\n",
        "if 'history' in locals():\n",
        "    # Extract metrics\n",
        "    acc = history.history['accuracy']\n",
        "    val_acc = history.history['val_accuracy']\n",
        "    loss = history.history['loss']\n",
        "    val_loss = history.history['val_loss']\n",
        "\n",
        "    # Create plots\n",
        "    plt.figure(figsize=(12, 4))\n",
        "\n",
        "    plt.subplot(1, 2, 1)\n",
        "    plt.plot(acc, label='Training Accuracy')\n",
        "    plt.plot(val_acc, label='Validation Accuracy')\n",
        "    plt.legend()\n",
        "    plt.title('Accuracy')\n",
        "\n",
        "    plt.subplot(1, 2, 2)\n",
        "    plt.plot(loss, label='Training Loss')\n",
        "    plt.plot(val_loss, label='Validation Loss')\n",
        "    plt.legend()\n",
        "    plt.title('Loss')\n",
        "\n",
        "    plt.show()\n",
        "else:\n",
        "    print(\"Error: No training history available. Please train the model first.\")"
      ]
    },
    {
      "cell_type": "code",
      "execution_count": null,
      "metadata": {
        "colab": {
          "base_uri": "https://localhost:8080/",
          "height": 507
        },
        "id": "ukPlvi0prbx_",
        "outputId": "4454c580-4862-4720-9b66-0acd5e7eabd7"
      },
      "outputs": [
        {
          "data": {
            "image/png": "[encoded data removed]",
            "text/plain": [
              "<Figure size 1200x500 with 1 Axes>"
            ]
          },
          "metadata": {},
          "output_type": "display_data"
        }
      ],
      "source": [
        "plt.figure(figsize=(12, 5))\n",
        "plt.subplot(1, 2, 1)\n",
        "plt.plot(acc, label='Precision (Training)')\n",
        "plt.plot(val_acc, label='Precision (Validation)')\n",
        "plt.legend()\n",
        "plt.title('Loss Curve Precision')\n",
        "plt.xlabel('Époque')\n",
        "\n",
        "plt.tight_layout()\n",
        "plt.show()"
      ]
    },
    {
      "cell_type": "code",
      "execution_count": null,
      "metadata": {
        "colab": {
          "base_uri": "https://localhost:8080/",
          "height": 507
        },
        "id": "M914HThMiCO0",
        "outputId": "dd86e1c8-f3e6-446d-f4ed-3028a827b4b7"
      },
      "outputs": [
        {
          "data": {
            "image/png": "[encoded data removed]",
            "text/plain": [
              "<Figure size 1200x500 with 1 Axes>"
            ]
          },
          "metadata": {},
          "output_type": "display_data"
        }
      ],
      "source": [
        "plt.figure(figsize=(12, 5))\n",
        "plt.subplot(1, 2, 2)\n",
        "plt.plot(loss, label='Loss (Training)')\n",
        "plt.plot(val_loss, label='Loss (Validation)')\n",
        "plt.legend()\n",
        "plt.title('Loss Curve Visualization')\n",
        "plt.xlabel('Époch')\n",
        "\n",
        "plt.tight_layout()\n",
        "plt.show()"
      ]
    },
    {
      "cell_type": "code",
      "execution_count": null,
      "metadata": {
        "colab": {
          "base_uri": "https://localhost:8080/"
        },
        "collapsed": true,
        "id": "mDLPVsEgmLoq",
        "outputId": "39bb3cf7-f5fc-4360-dcd0-d6d10842c1d7"
      },
      "outputs": [
        {
          "name": "stdout",
          "output_type": "stream",
          "text": [
            "\n",
            "--- Saving the model ---\n",
            "--> Model successfully saved to file : plant_disease_model.keras\n"
          ]
        }
      ],
      "source": [
        "### Bloc 8 : Saving the Trained Model\n",
        "\n",
        "print(\"\\n--- Saving the model ---\")\n",
        "\n",
        "#Recommended Filename with .keras Extension\n",
        "nom_fichier_modele = 'plant_disease_model.keras'\n",
        "\n",
        "# Model Saving in Native .keras Format\n",
        "model.save(nom_fichier_modele)\n",
        "\n",
        "print(f\"--> Model successfully saved to file : {nom_fichier_modele}\")"
      ]
    }
  ],
  "metadata": {
    "accelerator": "GPU",
    "colab": {
      "gpuType": "T4",
      "provenance": [],
      "toc_visible": true,
      "include_colab_link": true
    },
    "kernelspec": {
      "display_name": "Python 3",
      "name": "python3"
    },
    "language_info": {
      "name": "python"
    }
  },
  "nbformat": 4,
  "nbformat_minor": 0
}